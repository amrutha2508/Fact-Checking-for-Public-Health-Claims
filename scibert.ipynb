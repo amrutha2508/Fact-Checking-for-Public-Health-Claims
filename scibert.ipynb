{
  "metadata": {
    "kernelspec": {
      "display_name": "Python 3",
      "name": "python3"
    },
    "language_info": {
      "name": "python",
      "version": "3.10.14",
      "mimetype": "text/x-python",
      "codemirror_mode": {
        "name": "ipython",
        "version": 3
      },
      "pygments_lexer": "ipython3",
      "nbconvert_exporter": "python",
      "file_extension": ".py"
    },
    "kaggle": {
      "accelerator": "nvidiaTeslaT4",
      "dataSources": [],
      "dockerImageVersionId": 30805,
      "isInternetEnabled": true,
      "language": "python",
      "sourceType": "notebook",
      "isGpuEnabled": true
    },
    "colab": {
      "provenance": [],
      "gpuType": "T4"
    },
    "accelerator": "GPU"
  },
  "nbformat_minor": 0,
  "nbformat": 4,
  "cells": [
    {
      "cell_type": "code",
      "source": [
        "# This Python 3 environment comes with many helpful analytics libraries installed\n",
        "# It is defined by the kaggle/python Docker image: https://github.com/kaggle/docker-python\n",
        "# For example, here's several helpful packages to load\n",
        "\n",
        "import numpy as np # linear algebra\n",
        "import pandas as pd # data processing, CSV file I/O (e.g. pd.read_csv)\n",
        "\n",
        "# Input data files are available in the read-only \"../input/\" directory\n",
        "# For example, running this (by clicking run or pressing Shift+Enter) will list all files under the input directory\n",
        "\n",
        "import os\n",
        "for dirname, _, filenames in os.walk('/kaggle/input'):\n",
        "    for filename in filenames:\n",
        "        print(os.path.join(dirname, filename))\n",
        "\n",
        "# You can write up to 20GB to the current directory (/kaggle/working/) that gets preserved as output when you create a version using \"Save & Run All\"\n",
        "# You can also write temporary files to /kaggle/temp/, but they won't be saved outside of the current session"
      ],
      "metadata": {
        "_uuid": "4964c980-1bb3-4827-b978-e27d908a6123",
        "_cell_guid": "39709d15-1b86-4430-8ce5-c628f9611fda",
        "trusted": true,
        "jupyter": {
          "outputs_hidden": false
        },
        "execution": {
          "iopub.status.busy": "2024-12-12T06:24:31.510364Z",
          "iopub.execute_input": "2024-12-12T06:24:31.510642Z",
          "iopub.status.idle": "2024-12-12T06:24:32.516375Z",
          "shell.execute_reply.started": "2024-12-12T06:24:31.510614Z",
          "shell.execute_reply": "2024-12-12T06:24:32.515637Z"
        },
        "id": "zzAsPt00wvnp"
      },
      "outputs": [],
      "execution_count": null
    },
    {
      "cell_type": "code",
      "source": [
        "import torch\n",
        "from transformers import AutoTokenizer, AutoModel\n",
        "import torch.nn as nn\n",
        "import torch.nn.functional as F\n",
        "from torch.utils.data import TensorDataset, DataLoader\n",
        "from torch import optim\n",
        "\n",
        "import pandas as pd\n",
        "import matplotlib.pyplot as plt\n",
        "import seaborn as sns\n",
        "import numpy as np\n",
        "import re\n",
        "import nltk\n",
        "nltk.download('stopwords')\n",
        "nltk.download('punkt')\n",
        "nltk.download('punkt_tab')\n",
        "import plotly.express as px\n",
        "from nltk.corpus import stopwords\n",
        "from nltk.tokenize import word_tokenize\n"
      ],
      "metadata": {
        "_uuid": "102377aa-40f5-4c08-8330-5d5051d87ded",
        "_cell_guid": "531deb23-c629-4c5c-9170-29d4c207a22f",
        "trusted": true,
        "jupyter": {
          "outputs_hidden": false
        },
        "execution": {
          "iopub.status.busy": "2024-12-12T06:24:32.517833Z",
          "iopub.execute_input": "2024-12-12T06:24:32.518237Z",
          "iopub.status.idle": "2024-12-12T06:25:19.216977Z",
          "shell.execute_reply.started": "2024-12-12T06:24:32.518209Z",
          "shell.execute_reply": "2024-12-12T06:25:19.215773Z"
        },
        "colab": {
          "base_uri": "https://localhost:8080/"
        },
        "id": "D5uUrI52wvns",
        "outputId": "d8f4c7f1-e427-4b36-fabc-d4c89064a719"
      },
      "outputs": [
        {
          "output_type": "stream",
          "name": "stderr",
          "text": [
            "[nltk_data] Downloading package stopwords to /root/nltk_data...\n",
            "[nltk_data]   Unzipping corpora/stopwords.zip.\n",
            "[nltk_data] Downloading package punkt to /root/nltk_data...\n",
            "[nltk_data]   Unzipping tokenizers/punkt.zip.\n",
            "[nltk_data] Downloading package punkt_tab to /root/nltk_data...\n",
            "[nltk_data]   Unzipping tokenizers/punkt_tab.zip.\n"
          ]
        }
      ],
      "execution_count": 1
    },
    {
      "cell_type": "code",
      "source": [
        "import gdown\n",
        "file_id = '1eTtRs5cUlBP5dXsx-FTAlmXuB6JQi2qj'\n",
        "url = f'https://drive.google.com/uc?export=download&id={file_id}'\n",
        "\n",
        "gdown.download(url, output='file.zip', quiet=False)"
      ],
      "metadata": {
        "_uuid": "b8155543-81b8-4eac-bf7f-e336f9e79e3d",
        "_cell_guid": "de2299e5-bd6a-4880-8913-c9d9df76c03a",
        "trusted": true,
        "jupyter": {
          "outputs_hidden": false
        },
        "execution": {
          "iopub.status.busy": "2024-12-12T06:25:19.218621Z",
          "iopub.execute_input": "2024-12-12T06:25:19.21904Z",
          "iopub.status.idle": "2024-12-12T06:25:27.515214Z",
          "shell.execute_reply.started": "2024-12-12T06:25:19.218999Z",
          "shell.execute_reply": "2024-12-12T06:25:27.514308Z"
        },
        "id": "hKL65eb-wvns"
      },
      "outputs": [],
      "execution_count": null
    },
    {
      "cell_type": "code",
      "source": [
        "import zipfile\n",
        "zip_file_path = 'file.zip'\n",
        "with zipfile.ZipFile(zip_file_path, 'r') as zip_ref:\n",
        "    zip_ref.extractall('extracted_folder')\n",
        "\n",
        "import os\n",
        "os.listdir('extracted_folder')"
      ],
      "metadata": {
        "_uuid": "1303ef03-49a5-43cd-977e-c4d46a1f8f5c",
        "_cell_guid": "4f3951f8-09c2-43f8-94f3-cde1dd4c6fca",
        "trusted": true,
        "jupyter": {
          "outputs_hidden": false
        },
        "execution": {
          "iopub.status.busy": "2024-12-12T06:25:27.51768Z",
          "iopub.execute_input": "2024-12-12T06:25:27.518309Z",
          "iopub.status.idle": "2024-12-12T06:25:27.97456Z",
          "shell.execute_reply.started": "2024-12-12T06:25:27.518251Z",
          "shell.execute_reply": "2024-12-12T06:25:27.973528Z"
        },
        "id": "RTnrV-jmwvnt"
      },
      "outputs": [],
      "execution_count": null
    },
    {
      "cell_type": "code",
      "source": [
        "!mv extracted_folder/PUBHEALTH pubhealth\n",
        "!rm -rf /content/extracted_folder\n",
        "!rm -rf /content/file.zip"
      ],
      "metadata": {
        "_uuid": "4712e131-7892-4100-8534-49b910015aea",
        "_cell_guid": "e8fe965a-536f-40a1-b1b4-424505ebf328",
        "trusted": true,
        "jupyter": {
          "outputs_hidden": false
        },
        "execution": {
          "iopub.status.busy": "2024-12-12T06:25:27.975919Z",
          "iopub.execute_input": "2024-12-12T06:25:27.976629Z",
          "iopub.status.idle": "2024-12-12T06:25:31.219439Z",
          "shell.execute_reply.started": "2024-12-12T06:25:27.976582Z",
          "shell.execute_reply": "2024-12-12T06:25:31.218291Z"
        },
        "id": "p3pqsnEXwvnt"
      },
      "outputs": [],
      "execution_count": null
    },
    {
      "cell_type": "code",
      "source": [
        "import pandas as pd\n",
        "import nltk\n",
        "import matplotlib.pyplot as plt\n",
        "import seaborn as sns\n",
        "import numpy as np\n",
        "import regex as re\n",
        "import nltk\n",
        "nltk.download('stopwords')\n",
        "nltk.download('punkt')\n",
        "nltk.download('punkt_tab')\n",
        "import plotly.express as px\n",
        "from nltk.corpus import stopwords\n",
        "from nltk.tokenize import word_tokenize\n",
        "import torch\n",
        "from transformers import AutoTokenizer, AutoModelForSequenceClassification, TrainingArguments, Trainer\n",
        "from sklearn.metrics import classification_report, confusion_matrix"
      ],
      "metadata": {
        "_uuid": "56262e36-4954-437d-9fa7-4fba8d545489",
        "_cell_guid": "2f4bbaf6-ba09-4a96-ab65-c410178b4b29",
        "trusted": true,
        "jupyter": {
          "outputs_hidden": false
        },
        "execution": {
          "iopub.status.busy": "2024-12-12T06:25:31.221003Z",
          "iopub.execute_input": "2024-12-12T06:25:31.221316Z",
          "iopub.status.idle": "2024-12-12T06:25:53.296607Z",
          "shell.execute_reply.started": "2024-12-12T06:25:31.221277Z",
          "shell.execute_reply": "2024-12-12T06:25:53.295612Z"
        },
        "colab": {
          "base_uri": "https://localhost:8080/"
        },
        "id": "pNM5g1U6wvnt",
        "outputId": "90091f71-dd1f-41eb-a077-39a57fb2df88"
      },
      "outputs": [
        {
          "output_type": "stream",
          "name": "stderr",
          "text": [
            "[nltk_data] Downloading package stopwords to /root/nltk_data...\n",
            "[nltk_data]   Package stopwords is already up-to-date!\n",
            "[nltk_data] Downloading package punkt to /root/nltk_data...\n",
            "[nltk_data]   Package punkt is already up-to-date!\n",
            "[nltk_data] Downloading package punkt_tab to /root/nltk_data...\n",
            "[nltk_data]   Package punkt_tab is already up-to-date!\n"
          ]
        }
      ],
      "execution_count": 2
    },
    {
      "cell_type": "code",
      "source": [
        "!pip install sentence-transformers"
      ],
      "metadata": {
        "_uuid": "c47b4fb4-d014-43ab-8cd8-f407d63eb3b5",
        "_cell_guid": "c7302eb2-f348-4fe3-b9f1-f2d82402f7a4",
        "trusted": true,
        "jupyter": {
          "outputs_hidden": false
        },
        "execution": {
          "iopub.status.busy": "2024-12-12T06:25:53.297929Z",
          "iopub.execute_input": "2024-12-12T06:25:53.298873Z",
          "iopub.status.idle": "2024-12-12T06:26:03.069494Z",
          "shell.execute_reply.started": "2024-12-12T06:25:53.298828Z",
          "shell.execute_reply": "2024-12-12T06:26:03.068469Z"
        },
        "id": "mEhMCWDtwvnu"
      },
      "outputs": [],
      "execution_count": null
    },
    {
      "cell_type": "code",
      "source": [
        "from sentence_transformers import SentenceTransformer, util"
      ],
      "metadata": {
        "_uuid": "b7c5d3d4-bdda-4abe-b4d2-9db0f777c2d5",
        "_cell_guid": "f0d6c25f-81e3-47b4-af24-71aad49fb2d0",
        "trusted": true,
        "jupyter": {
          "outputs_hidden": false
        },
        "execution": {
          "iopub.status.busy": "2024-12-12T06:26:03.070993Z",
          "iopub.execute_input": "2024-12-12T06:26:03.071338Z",
          "iopub.status.idle": "2024-12-12T06:26:03.14534Z",
          "shell.execute_reply.started": "2024-12-12T06:26:03.071291Z",
          "shell.execute_reply": "2024-12-12T06:26:03.144594Z"
        },
        "id": "r6oBcCyLwvnu"
      },
      "outputs": [],
      "execution_count": 3
    },
    {
      "cell_type": "code",
      "source": [
        "stop_words = set(stopwords.words('english'))"
      ],
      "metadata": {
        "_uuid": "eff2d9cb-3c4d-4d2a-9e99-f7f1ea758fe5",
        "_cell_guid": "93766302-0612-446e-8e05-a6bd9d85a5b9",
        "trusted": true,
        "jupyter": {
          "outputs_hidden": false
        },
        "execution": {
          "iopub.status.busy": "2024-12-12T06:26:03.146348Z",
          "iopub.execute_input": "2024-12-12T06:26:03.146587Z",
          "iopub.status.idle": "2024-12-12T06:26:03.153794Z",
          "shell.execute_reply.started": "2024-12-12T06:26:03.146562Z",
          "shell.execute_reply": "2024-12-12T06:26:03.152941Z"
        },
        "id": "_2e7-mf-wvnv"
      },
      "outputs": [],
      "execution_count": null
    },
    {
      "cell_type": "code",
      "source": [
        "stop_words = set(stopwords.words('english'))\n",
        "file_paths = {\n",
        "        \"train\": \"train.tsv\",\n",
        "        \"test\": \"test.tsv\"\n",
        "    }\n",
        "\n",
        "def read_data(file_path):\n",
        "    df = pd.read_csv(file_path, sep='\\t')\n",
        "    df = df[['claim', 'main_text', 'label']]\n",
        "    df.dropna(axis=0, inplace=True)\n",
        "\n",
        "    def preprocess_text(text):\n",
        "        text = re.sub(r'[#\\\\\\\"$”“,:()–’\\'/;\\[\\]{}—‘!+•%&-]', ' ', text)\n",
        "        text = re.sub(r'\\s+', ' ', text)\n",
        "        text = text.lower()\n",
        "        return ' '.join([word for word in word_tokenize(text) if word not in stop_words])\n",
        "\n",
        "    df['main_text'] = df['main_text'].apply(preprocess_text)\n",
        "    df['claim'] = df['claim'].apply(preprocess_text)\n",
        "\n",
        "    df = df[df['label'].str.contains('snopes') == False]\n",
        "    label_dict = {'true': 0, 'false': 1, 'mixture': 2, 'unproven': 3}\n",
        "    df['label'] = df['label'].map(label_dict)\n",
        "    return df"
      ],
      "metadata": {
        "id": "a-pCwOV0373H"
      },
      "execution_count": 4,
      "outputs": []
    },
    {
      "cell_type": "code",
      "source": [
        "file_paths = {\n",
        "        \"train\": \"train.tsv\",\n",
        "        \"test\": \"test.tsv\"\n",
        "    }"
      ],
      "metadata": {
        "id": "pm5EzpxCxVau"
      },
      "execution_count": 5,
      "outputs": []
    },
    {
      "cell_type": "code",
      "source": [
        "file_paths = {\n",
        "        \"train\": \"pubhealth/train.tsv\",\n",
        "        \"test\": \"pubhealth/test.tsv\",\n",
        "        \"valid\": \"pubhealth/dev.tsv\"\n",
        "    }"
      ],
      "metadata": {
        "_uuid": "c7b0be1a-244c-481f-a1de-e37bac0ac520",
        "_cell_guid": "e5552185-6501-4f5d-9a0e-5f1838410956",
        "trusted": true,
        "execution": {
          "iopub.status.busy": "2024-12-12T06:26:03.15706Z",
          "iopub.execute_input": "2024-12-12T06:26:03.157347Z",
          "iopub.status.idle": "2024-12-12T06:26:03.162399Z",
          "shell.execute_reply.started": "2024-12-12T06:26:03.15732Z",
          "shell.execute_reply": "2024-12-12T06:26:03.161597Z"
        },
        "jupyter": {
          "outputs_hidden": false
        },
        "id": "aOeMfpJZwvnv"
      },
      "outputs": [],
      "execution_count": null
    },
    {
      "cell_type": "code",
      "source": [
        "def read_data(file_path):\n",
        "    df = pd.read_csv(file_path, sep='\\t')\n",
        "    df = df[['claim', 'main_text', 'label']]\n",
        "    df.dropna(axis=0, inplace=True)\n",
        "\n",
        "    def preprocess_text(text):\n",
        "        text = re.sub(r'[#\\\\\\\"$”“,:()–’\\'/;\\[\\]{}—‘!+•%&-]', ' ', text)\n",
        "        text = re.sub(r'\\s+', ' ', text)\n",
        "        text = text.lower()\n",
        "        return ' '.join([word for word in word_tokenize(text) if word not in stop_words])\n",
        "\n",
        "    df['main_text'] = df['main_text'].apply(preprocess_text)\n",
        "    df['claim'] = df['claim'].apply(preprocess_text)\n",
        "\n",
        "    df = df[df['label'].str.contains('snopes') == False]\n",
        "    label_dict = {'true': 0, 'false': 1, 'mixture': 2, 'unproven': 3}\n",
        "    df['label'] = df['label'].map(label_dict)\n",
        "    return df"
      ],
      "metadata": {
        "_uuid": "e6398ab4-3b64-4e93-bc5b-9191c328f252",
        "_cell_guid": "2aa954b5-6b29-4583-a9c5-9e41b69693f9",
        "trusted": true,
        "jupyter": {
          "outputs_hidden": false
        },
        "execution": {
          "iopub.status.busy": "2024-12-12T06:26:03.163988Z",
          "iopub.execute_input": "2024-12-12T06:26:03.164353Z",
          "iopub.status.idle": "2024-12-12T06:26:03.173642Z",
          "shell.execute_reply.started": "2024-12-12T06:26:03.164313Z",
          "shell.execute_reply": "2024-12-12T06:26:03.172822Z"
        },
        "id": "KJ8ZT2f5wvnv"
      },
      "outputs": [],
      "execution_count": null
    },
    {
      "cell_type": "code",
      "source": [
        "def retrieve_top_k_sentences(claim, main_text, k=3, model=None):\n",
        "\n",
        "    sentences = nltk.sent_tokenize(main_text)\n",
        "    if model is None:\n",
        "        raise ValueError(\"A SentenceTransformer model must be provided\")\n",
        "    claim_embedding = model.encode(claim, convert_to_tensor=True)\n",
        "    sentence_embeddings = model.encode(sentences, convert_to_tensor=True)\n",
        "    similarities = util.cos_sim(claim_embedding, sentence_embeddings)[0]\n",
        "    top_k_indices = similarities.argsort(descending=True)[:k]\n",
        "    return ' '.join([sentences[i] for i in top_k_indices])"
      ],
      "metadata": {
        "_uuid": "5ee2db75-9a15-4c29-8218-2e4fc4875c8a",
        "_cell_guid": "d60c02ac-f2f7-464a-aada-82bda00af97c",
        "trusted": true,
        "jupyter": {
          "outputs_hidden": false
        },
        "execution": {
          "iopub.status.busy": "2024-12-12T06:26:03.174606Z",
          "iopub.execute_input": "2024-12-12T06:26:03.174886Z",
          "iopub.status.idle": "2024-12-12T06:26:03.182648Z",
          "shell.execute_reply.started": "2024-12-12T06:26:03.174859Z",
          "shell.execute_reply": "2024-12-12T06:26:03.181901Z"
        },
        "id": "z8y_Zcf4wvnw"
      },
      "outputs": [],
      "execution_count": null
    },
    {
      "cell_type": "code",
      "source": [
        "def load_and_preprocess_data(file_paths):\n",
        "    datasets = {}\n",
        "    for key, path in file_paths.items():\n",
        "        df = read_data(path)\n",
        "        #df['top_k_sentences'] = df.apply(\n",
        "        #    lambda row: retrieve_top_k_sentences(row['claim'], row['main_text'], model=sbert_model), axis=1\n",
        "\n",
        "        datasets[key] = df\n",
        "    return datasets"
      ],
      "metadata": {
        "_uuid": "95588502-1ee7-4688-ae53-bbb0cd364346",
        "_cell_guid": "2894cd11-3abf-4a04-89a9-153fc4531a09",
        "trusted": true,
        "jupyter": {
          "outputs_hidden": false
        },
        "execution": {
          "iopub.status.busy": "2024-12-12T06:26:03.183746Z",
          "iopub.execute_input": "2024-12-12T06:26:03.184044Z",
          "iopub.status.idle": "2024-12-12T06:26:03.194025Z",
          "shell.execute_reply.started": "2024-12-12T06:26:03.184018Z",
          "shell.execute_reply": "2024-12-12T06:26:03.193296Z"
        },
        "id": "95HRmPtjwvnw"
      },
      "outputs": [],
      "execution_count": 6
    },
    {
      "cell_type": "code",
      "source": [
        "from transformers import AutoTokenizer, AutoModelForSequenceClassification, TrainingArguments, Trainer"
      ],
      "metadata": {
        "id": "I3KRDFApBk1v"
      },
      "execution_count": 7,
      "outputs": []
    },
    {
      "cell_type": "code",
      "source": [
        "from transformers import AutoTokenizer, AutoModelForSequenceClassification, TrainingArguments, Trainer\n",
        "sbert_model = SentenceTransformer('all-mpnet-base-v2')\n",
        "datasets = load_and_preprocess_data(file_paths)"
      ],
      "metadata": {
        "id": "JmvCu3y91NZc"
      },
      "execution_count": null,
      "outputs": []
    },
    {
      "cell_type": "code",
      "source": [
        "sbert_model = SentenceTransformer('all-mpnet-base-v2')"
      ],
      "metadata": {
        "_uuid": "9a4de9ce-71bc-48db-87c1-dc9342719990",
        "_cell_guid": "b73e46ce-7e0e-4895-b9fb-68ecefd9452d",
        "trusted": true,
        "jupyter": {
          "outputs_hidden": false
        },
        "execution": {
          "iopub.status.busy": "2024-12-12T06:26:03.195112Z",
          "iopub.execute_input": "2024-12-12T06:26:03.195387Z",
          "iopub.status.idle": "2024-12-12T06:26:09.972819Z",
          "shell.execute_reply.started": "2024-12-12T06:26:03.195361Z",
          "shell.execute_reply": "2024-12-12T06:26:09.971998Z"
        },
        "id": "IVwrpYtuwvnx"
      },
      "outputs": [],
      "execution_count": null
    },
    {
      "cell_type": "code",
      "source": [
        "datasets = load_and_preprocess_data(file_paths)"
      ],
      "metadata": {
        "_uuid": "e09860cd-b6a9-4ad1-9b31-c7be2fb38623",
        "_cell_guid": "5e8d9e49-da8e-442e-9176-9bcbd7a5bc1c",
        "trusted": true,
        "_kg_hide-input": true,
        "jupyter": {
          "outputs_hidden": false
        },
        "execution": {
          "iopub.status.busy": "2024-12-12T06:26:09.973963Z",
          "iopub.execute_input": "2024-12-12T06:26:09.974258Z",
          "iopub.status.idle": "2024-12-12T06:51:59.70406Z",
          "shell.execute_reply.started": "2024-12-12T06:26:09.974229Z",
          "shell.execute_reply": "2024-12-12T06:51:59.703246Z"
        },
        "id": "WLMHXDcmwvnx"
      },
      "outputs": [],
      "execution_count": 9
    },
    {
      "cell_type": "code",
      "source": [
        "def tokenize_data(data, tokenizer):\n",
        "    return tokenizer(\n",
        "        data[\"claim\"].tolist(),\n",
        "        data[\"main_text\"].tolist(),\n",
        "        truncation=True,\n",
        "        padding=True,\n",
        "        max_length=512,\n",
        "        return_tensors=\"pt\"\n",
        "    )"
      ],
      "metadata": {
        "_uuid": "32876406-089d-4f03-9fd4-36f3d8453ff9",
        "_cell_guid": "d66e9f52-bdbe-468d-9124-80167edd374a",
        "trusted": true,
        "jupyter": {
          "outputs_hidden": false
        },
        "execution": {
          "iopub.status.busy": "2024-12-12T06:51:59.705478Z",
          "iopub.execute_input": "2024-12-12T06:51:59.705939Z",
          "iopub.status.idle": "2024-12-12T06:51:59.711637Z",
          "shell.execute_reply.started": "2024-12-12T06:51:59.705895Z",
          "shell.execute_reply": "2024-12-12T06:51:59.710742Z"
        },
        "id": "ynOJkqWPwvnx"
      },
      "outputs": [],
      "execution_count": 10
    },
    {
      "cell_type": "code",
      "source": [
        "class PUBHEALTHDataset(torch.utils.data.Dataset):\n",
        "    def __init__(self, encodings, labels):\n",
        "        # Store encodings and labels as tensors\n",
        "        labels = [int(label) if isinstance(label, float) else int(label) for label in labels]\n",
        "        self.labels = torch.tensor(labels, dtype=torch.long)\n",
        "        self.encodings = encodings\n",
        "\n",
        "    def __len__(self):\n",
        "        return len(self.labels)\n",
        "\n",
        "    def __getitem__(self, idx):\n",
        "        # Use clone().detach() instead of torch.tensor() for existing tensors\n",
        "        item = {key: val[idx].clone().detach() for key, val in self.encodings.items()}\n",
        "        item[\"labels\"] = self.labels[idx].clone().detach()\n",
        "        return item\n"
      ],
      "metadata": {
        "id": "ohScG5nX23Kr"
      },
      "execution_count": 11,
      "outputs": []
    },
    {
      "cell_type": "code",
      "source": [
        "class PUBHEALTHDataset(torch.utils.data.Dataset):\n",
        "    def __init__(self, encodings, labels):\n",
        "\n",
        "        labels = [int(label) if isinstance(label, float) else int(label) for label in labels]\n",
        "        self.labels = torch.tensor(labels, dtype=torch.long)\n",
        "        self.encodings = encodings\n",
        "\n",
        "    def __len__(self):\n",
        "        return len(self.labels)\n",
        "\n",
        "    def __getitem__(self, idx):\n",
        "        item = {key: torch.tensor(val[idx]) for key, val in self.encodings.items()}\n",
        "        item[\"labels\"] = self.labels[idx]\n",
        "        return item"
      ],
      "metadata": {
        "_uuid": "cf5fa82b-f67d-4707-bd12-480c589f6c7b",
        "_cell_guid": "636c6d80-fcd3-42fd-9b03-515b6d96decf",
        "trusted": true,
        "jupyter": {
          "outputs_hidden": false
        },
        "execution": {
          "iopub.status.busy": "2024-12-12T06:51:59.713037Z",
          "iopub.execute_input": "2024-12-12T06:51:59.713427Z",
          "iopub.status.idle": "2024-12-12T06:51:59.721945Z",
          "shell.execute_reply.started": "2024-12-12T06:51:59.713384Z",
          "shell.execute_reply": "2024-12-12T06:51:59.721195Z"
        },
        "id": "vNZXbBdvwvny"
      },
      "outputs": [],
      "execution_count": null
    },
    {
      "cell_type": "code",
      "source": [
        "torch.cuda.empty_cache()"
      ],
      "metadata": {
        "_uuid": "3ffbb378-4252-4dbc-9d2f-4a14769f3b39",
        "_cell_guid": "db6555f5-96c8-4e87-abc6-537f8e0ae431",
        "trusted": true,
        "execution": {
          "iopub.status.busy": "2024-12-12T06:51:59.723031Z",
          "iopub.execute_input": "2024-12-12T06:51:59.723405Z",
          "iopub.status.idle": "2024-12-12T06:51:59.759671Z",
          "shell.execute_reply.started": "2024-12-12T06:51:59.723363Z",
          "shell.execute_reply": "2024-12-12T06:51:59.758812Z"
        },
        "jupyter": {
          "outputs_hidden": false
        },
        "id": "dRzXtrPDwvny"
      },
      "outputs": [],
      "execution_count": null
    },
    {
      "cell_type": "code",
      "source": [
        "def evaluate_model(true_labels, predicted_labels, label_mapping):\n",
        "    reverse_mapping = {v: k for k, v in label_mapping.items()}\n",
        "    true_labels_str = [reverse_mapping[label] for label in true_labels]\n",
        "    predicted_labels_str = [reverse_mapping[label] for label in predicted_labels]\n",
        "\n",
        "    print(\"Classification Report:\\n\", classification_report(true_labels_str, predicted_labels_str))\n",
        "    cm = confusion_matrix(true_labels_str, predicted_labels_str, labels=list(label_mapping.keys()))\n",
        "    plt.figure(figsize=(10, 7))\n",
        "    sns.heatmap(cm, annot=True, fmt='d', cmap='Blues', xticklabels=list(label_mapping.keys()), yticklabels=list(label_mapping.keys()))\n",
        "    plt.xlabel('Predicted')\n",
        "    plt.ylabel('True')\n",
        "    plt.title('Confusion Matrix')\n",
        "    plt.show()\n",
        "\n",
        "def evaluate_model_performance(trainer, test_dataset, test_labels, label_mapping):\n",
        "    predictions = trainer.predict(test_dataset)\n",
        "    predicted_labels = predictions.predictions.argmax(axis=1)\n",
        "    evaluate_model(test_labels, predicted_labels, label_mapping)"
      ],
      "metadata": {
        "_uuid": "9f703754-51e5-48c7-9faa-13ec2966a0fc",
        "_cell_guid": "70154557-211d-41dc-b115-a1cb08d7f69b",
        "trusted": true,
        "jupyter": {
          "outputs_hidden": false
        },
        "execution": {
          "iopub.status.busy": "2024-12-12T06:51:59.761102Z",
          "iopub.execute_input": "2024-12-12T06:51:59.76191Z",
          "iopub.status.idle": "2024-12-12T06:51:59.76953Z",
          "shell.execute_reply.started": "2024-12-12T06:51:59.761864Z",
          "shell.execute_reply": "2024-12-12T06:51:59.768552Z"
        },
        "id": "-1rDmtn0wvny"
      },
      "outputs": [],
      "execution_count": 25
    },
    {
      "cell_type": "code",
      "source": [
        "def evaluate_model_performance(trainer, test_dataset, test_labels, label_mapping):\n",
        "    predictions = trainer.predict(test_dataset)\n",
        "    predicted_labels = predictions.predictions.argmax(axis=1)\n",
        "    evaluate_model(test_labels, predicted_labels, label_mapping)"
      ],
      "metadata": {
        "_uuid": "a17972a4-9e9c-4010-b533-e2c45deadbc7",
        "_cell_guid": "c9c377e4-601a-44e8-82b6-42f0f49f8bbe",
        "trusted": true,
        "jupyter": {
          "outputs_hidden": false
        },
        "execution": {
          "iopub.status.busy": "2024-12-12T06:51:59.770639Z",
          "iopub.execute_input": "2024-12-12T06:51:59.771013Z",
          "iopub.status.idle": "2024-12-12T06:51:59.781442Z",
          "shell.execute_reply.started": "2024-12-12T06:51:59.770984Z",
          "shell.execute_reply": "2024-12-12T06:51:59.780667Z"
        },
        "id": "NkqytxIpwvnz"
      },
      "outputs": [],
      "execution_count": null
    },
    {
      "cell_type": "code",
      "source": [
        "from sklearn.utils.class_weight import compute_class_weight\n",
        "# Calculate class weights based on training labels\n",
        "def calculate_class_weights(dataset):\n",
        "    labels = dataset['label'].values\n",
        "    class_weights = compute_class_weight(\n",
        "        class_weight=\"balanced\",\n",
        "        classes=np.unique(labels),\n",
        "        y=labels\n",
        "    )\n",
        "    return torch.tensor(class_weights, dtype=torch.float)"
      ],
      "metadata": {
        "id": "juymCk4v0-Um"
      },
      "execution_count": 19,
      "outputs": []
    },
    {
      "cell_type": "code",
      "source": [
        "class WeightedTrainer(Trainer):\n",
        "    def __init__(self, class_weights, *args, **kwargs):\n",
        "        super().__init__(*args, **kwargs)\n",
        "        self.class_weights = class_weights.to(self.args.device)  # Move weights to GPU/CPU\n",
        "\n",
        "    def compute_loss(self, model, inputs, return_outputs=False, **kwargs):\n",
        "        labels = inputs.pop(\"labels\")\n",
        "        outputs = model(**inputs)\n",
        "        logits = outputs.logits\n",
        "        loss_fn = torch.nn.CrossEntropyLoss(weight=self.class_weights)  # Use weighted loss\n",
        "        loss = loss_fn(logits, labels)\n",
        "        return (loss, outputs) if return_outputs else loss\n",
        "\n"
      ],
      "metadata": {
        "id": "epiwh7YP1AS5"
      },
      "execution_count": 20,
      "outputs": []
    },
    {
      "cell_type": "code",
      "source": [
        "class WeightedTrainer(Trainer):\n",
        "    def __init__(self, class_weights, *args, **kwargs):\n",
        "        super().__init__(*args, **kwargs)\n",
        "        self.class_weights = class_weights.to(self.args.device)  # Move weights to GPU/CPU\n",
        "\n",
        "    def compute_loss(self, model, inputs, return_outputs=False):\n",
        "        labels = inputs.pop(\"labels\")\n",
        "        outputs = model(**inputs)\n",
        "        logits = outputs.logits\n",
        "        loss_fn = torch.nn.CrossEntropyLoss(weight=self.class_weights)  # Use weighted loss\n",
        "        loss = loss_fn(logits, labels)\n",
        "        return (loss, outputs) if return_outputs else loss"
      ],
      "metadata": {
        "id": "pTtkvrJ41Em_"
      },
      "execution_count": null,
      "outputs": []
    },
    {
      "cell_type": "code",
      "source": [
        "\n",
        "def train_model_with_weights(train_dataset, model):\n",
        "    # Calculate class weights\n",
        "    class_weights = calculate_class_weights(datasets[\"train\"])  # Using the train dataset\n",
        "\n",
        "    # Define training arguments\n",
        "    training_args = TrainingArguments(eval_strategy=\"no\",\n",
        "        output_dir=\"./results\",\n",
        "        learning_rate=2e-5,\n",
        "        per_device_train_batch_size=32,\n",
        "        num_train_epochs=4,\n",
        "        weight_decay=0.05,\n",
        "        logging_dir=\"./logs\",\n",
        "        logging_steps=100,\n",
        "        save_strategy=\"epoch\",\n",
        "    )\n",
        "\n",
        "    # Initialize the custom weighted trainer\n",
        "    trainer = WeightedTrainer(\n",
        "        model=model,\n",
        "        args=training_args,\n",
        "        train_dataset=train_dataset,\n",
        "        class_weights=class_weights\n",
        "    )\n",
        "\n",
        "    trainer.train()\n",
        "    return trainer\n"
      ],
      "metadata": {
        "id": "OMV8YzJ-1Sd9"
      },
      "execution_count": 21,
      "outputs": []
    },
    {
      "cell_type": "code",
      "source": [
        "def train_model(train_dataset, model):\n",
        "    training_args = TrainingArguments(\n",
        "        output_dir=\"./results\",\n",
        "        evaluation_strategy=\"no\",\n",
        "        learning_rate=2e-5,\n",
        "        per_device_train_batch_size=32,\n",
        "        #per_device_eval_batch_size=32,\n",
        "        num_train_epochs=4,\n",
        "        weight_decay=0.01,\n",
        "        logging_dir=\"./logs\",\n",
        "        logging_steps=100,\n",
        "    )\n",
        "\n",
        "    trainer = Trainer(\n",
        "        model=model,\n",
        "        args=training_args,\n",
        "        train_dataset=train_dataset,\n",
        "        #eval_dataset=valid_dataset,\n",
        "    )\n",
        "    trainer.train()\n",
        "    return trainer"
      ],
      "metadata": {
        "_uuid": "bd4b0ac7-79c3-46fa-9696-86b1044cd64a",
        "_cell_guid": "0cda82b2-7dba-495f-ba29-6cb440582471",
        "trusted": true,
        "jupyter": {
          "outputs_hidden": false
        },
        "execution": {
          "iopub.status.busy": "2024-12-12T06:51:59.782542Z",
          "iopub.execute_input": "2024-12-12T06:51:59.782834Z",
          "iopub.status.idle": "2024-12-12T06:51:59.789855Z",
          "shell.execute_reply.started": "2024-12-12T06:51:59.782787Z",
          "shell.execute_reply": "2024-12-12T06:51:59.78907Z"
        },
        "id": "6V8katvhwvnz"
      },
      "outputs": [],
      "execution_count": 12
    },
    {
      "cell_type": "code",
      "source": [
        "def train_model(train_dataset, model):\n",
        "    training_args = TrainingArguments(\n",
        "        output_dir=\"./results\",\n",
        "        evaluation_strategy=\"no\",\n",
        "        learning_rate=2e-5,\n",
        "        per_device_train_batch_size=32,\n",
        "        num_train_epochs=3,\n",
        "        weight_decay=0.05,\n",
        "        logging_dir=\"./logs\",\n",
        "        logging_steps=100\n",
        "    )\n",
        "    trainer = Trainer(\n",
        "        model=model,\n",
        "        args=training_args,\n",
        "        train_dataset=train_dataset\n",
        "    )\n",
        "    trainer.train()\n",
        "    return trainer"
      ],
      "metadata": {
        "id": "C4-WVKmr-dkA"
      },
      "execution_count": 13,
      "outputs": []
    },
    {
      "cell_type": "code",
      "source": [
        "model_name = \"allenai/scibert_scivocab_uncased\"\n",
        "tokenizer = AutoTokenizer.from_pretrained(model_name)\n",
        "model = AutoModelForSequenceClassification.from_pretrained(model_name, num_labels=4)\n",
        "\n",
        "model.to(torch.device('cuda' if torch.cuda.is_available() else 'cpu'))"
      ],
      "metadata": {
        "_uuid": "f27f551b-748b-4eed-a121-5df1fc636fcd",
        "_cell_guid": "4e4251bb-0860-46e9-8a8e-ecfd20916ce3",
        "trusted": true,
        "jupyter": {
          "outputs_hidden": false
        },
        "execution": {
          "iopub.status.busy": "2024-12-12T06:51:59.791143Z",
          "iopub.execute_input": "2024-12-12T06:51:59.791506Z",
          "iopub.status.idle": "2024-12-12T06:52:03.908839Z",
          "shell.execute_reply.started": "2024-12-12T06:51:59.791465Z",
          "shell.execute_reply": "2024-12-12T06:52:03.90784Z"
        },
        "colab": {
          "base_uri": "https://localhost:8080/"
        },
        "id": "4c41dcorwvnz",
        "outputId": "769560ea-da2f-495d-b608-ab2cf2b7a769"
      },
      "outputs": [
        {
          "output_type": "stream",
          "name": "stderr",
          "text": [
            "Some weights of BertForSequenceClassification were not initialized from the model checkpoint at allenai/scibert_scivocab_uncased and are newly initialized: ['classifier.bias', 'classifier.weight']\n",
            "You should probably TRAIN this model on a down-stream task to be able to use it for predictions and inference.\n"
          ]
        },
        {
          "output_type": "execute_result",
          "data": {
            "text/plain": [
              "BertForSequenceClassification(\n",
              "  (bert): BertModel(\n",
              "    (embeddings): BertEmbeddings(\n",
              "      (word_embeddings): Embedding(31090, 768, padding_idx=0)\n",
              "      (position_embeddings): Embedding(512, 768)\n",
              "      (token_type_embeddings): Embedding(2, 768)\n",
              "      (LayerNorm): LayerNorm((768,), eps=1e-12, elementwise_affine=True)\n",
              "      (dropout): Dropout(p=0.1, inplace=False)\n",
              "    )\n",
              "    (encoder): BertEncoder(\n",
              "      (layer): ModuleList(\n",
              "        (0-11): 12 x BertLayer(\n",
              "          (attention): BertAttention(\n",
              "            (self): BertSdpaSelfAttention(\n",
              "              (query): Linear(in_features=768, out_features=768, bias=True)\n",
              "              (key): Linear(in_features=768, out_features=768, bias=True)\n",
              "              (value): Linear(in_features=768, out_features=768, bias=True)\n",
              "              (dropout): Dropout(p=0.1, inplace=False)\n",
              "            )\n",
              "            (output): BertSelfOutput(\n",
              "              (dense): Linear(in_features=768, out_features=768, bias=True)\n",
              "              (LayerNorm): LayerNorm((768,), eps=1e-12, elementwise_affine=True)\n",
              "              (dropout): Dropout(p=0.1, inplace=False)\n",
              "            )\n",
              "          )\n",
              "          (intermediate): BertIntermediate(\n",
              "            (dense): Linear(in_features=768, out_features=3072, bias=True)\n",
              "            (intermediate_act_fn): GELUActivation()\n",
              "          )\n",
              "          (output): BertOutput(\n",
              "            (dense): Linear(in_features=3072, out_features=768, bias=True)\n",
              "            (LayerNorm): LayerNorm((768,), eps=1e-12, elementwise_affine=True)\n",
              "            (dropout): Dropout(p=0.1, inplace=False)\n",
              "          )\n",
              "        )\n",
              "      )\n",
              "    )\n",
              "    (pooler): BertPooler(\n",
              "      (dense): Linear(in_features=768, out_features=768, bias=True)\n",
              "      (activation): Tanh()\n",
              "    )\n",
              "  )\n",
              "  (dropout): Dropout(p=0.1, inplace=False)\n",
              "  (classifier): Linear(in_features=768, out_features=4, bias=True)\n",
              ")"
            ]
          },
          "metadata": {},
          "execution_count": 22
        }
      ],
      "execution_count": 22
    },
    {
      "cell_type": "code",
      "source": [
        "def prepare_datasets(datasets, tokenizer):\n",
        "    tokenized_datasets = {}\n",
        "\n",
        "    for key, df in datasets.items():\n",
        "        df = df.dropna(subset=[\"label\"])\n",
        "\n",
        "        encodings = tokenize_data(df, tokenizer)\n",
        "        tokenized_datasets[key] = PUBHEALTHDataset(encodings, df[\"label\"].tolist())\n",
        "\n",
        "    return tokenized_datasets"
      ],
      "metadata": {
        "_uuid": "c908dfda-0667-426f-9c11-1a021dd3eec1",
        "_cell_guid": "dc9d6a77-34eb-49f6-be90-26ae36862e11",
        "trusted": true,
        "jupyter": {
          "outputs_hidden": false
        },
        "execution": {
          "iopub.status.busy": "2024-12-12T06:52:03.909932Z",
          "iopub.execute_input": "2024-12-12T06:52:03.910204Z",
          "iopub.status.idle": "2024-12-12T06:52:03.918487Z",
          "shell.execute_reply.started": "2024-12-12T06:52:03.910178Z",
          "shell.execute_reply": "2024-12-12T06:52:03.915339Z"
        },
        "id": "LtTQfQBnwvn0"
      },
      "outputs": [],
      "execution_count": 15
    },
    {
      "cell_type": "code",
      "source": [
        "label_map = {\n",
        "    'true': 0,\n",
        "    'false': 1,\n",
        "    'mixture': 2,\n",
        "    'unproven': 3\n",
        "}\n",
        "\n",
        "tokenized_datasets = prepare_datasets(datasets, tokenizer)"
      ],
      "metadata": {
        "_uuid": "d7f8022e-08fe-421e-b5b3-5d534b722f26",
        "_cell_guid": "c9dfae30-a040-4993-b185-b3c70849d2b9",
        "trusted": true,
        "jupyter": {
          "outputs_hidden": false
        },
        "execution": {
          "iopub.status.busy": "2024-12-12T06:52:03.91987Z",
          "iopub.execute_input": "2024-12-12T06:52:03.92052Z",
          "iopub.status.idle": "2024-12-12T06:52:09.429988Z",
          "shell.execute_reply.started": "2024-12-12T06:52:03.920476Z",
          "shell.execute_reply": "2024-12-12T06:52:09.42896Z"
        },
        "id": "fdsZOUs-wvn0"
      },
      "outputs": [],
      "execution_count": 16
    },
    {
      "cell_type": "code",
      "source": [
        "tokenized_datasets"
      ],
      "metadata": {
        "colab": {
          "base_uri": "https://localhost:8080/"
        },
        "id": "OuNZlRJx-OXL",
        "outputId": "6055d3de-cf40-4b09-dcd4-5970d6e1bbd8"
      },
      "execution_count": 17,
      "outputs": [
        {
          "output_type": "execute_result",
          "data": {
            "text/plain": [
              "{'train': <__main__.PUBHEALTHDataset at 0x7aaabd3ec1f0>,\n",
              " 'test': <__main__.PUBHEALTHDataset at 0x7aaabd44ea10>}"
            ]
          },
          "metadata": {},
          "execution_count": 17
        }
      ]
    },
    {
      "cell_type": "code",
      "source": [
        "trainer = train_model(\n",
        "        tokenized_datasets[\"train\"],\n",
        "        model\n",
        "    )"
      ],
      "metadata": {
        "_uuid": "20084938-366d-4e21-b001-873f596df79b",
        "_cell_guid": "566879e3-fa3e-4b95-80c2-ba972ac0d92b",
        "trusted": true,
        "jupyter": {
          "outputs_hidden": false
        },
        "execution": {
          "iopub.status.busy": "2024-12-12T06:52:09.431608Z",
          "iopub.execute_input": "2024-12-12T06:52:09.43194Z",
          "iopub.status.idle": "2024-12-12T07:27:02.412303Z",
          "shell.execute_reply.started": "2024-12-12T06:52:09.431909Z",
          "shell.execute_reply": "2024-12-12T07:27:02.411385Z"
        },
        "colab": {
          "base_uri": "https://localhost:8080/",
          "height": 680
        },
        "id": "PCUd7Akiwvn0",
        "outputId": "2a1fa7e0-7c6b-480b-bd3c-bac1a92cd968"
      },
      "outputs": [
        {
          "output_type": "stream",
          "name": "stderr",
          "text": [
            "/usr/local/lib/python3.10/dist-packages/transformers/training_args.py:1568: FutureWarning: `evaluation_strategy` is deprecated and will be removed in version 4.46 of 🤗 Transformers. Use `eval_strategy` instead\n",
            "  warnings.warn(\n",
            "\u001b[34m\u001b[1mwandb\u001b[0m: \u001b[33mWARNING\u001b[0m The `run_name` is currently set to the same value as `TrainingArguments.output_dir`. If this was not intended, please specify a different run name by setting the `TrainingArguments.run_name` parameter.\n",
            "\u001b[34m\u001b[1mwandb\u001b[0m: Using wandb-core as the SDK backend.  Please refer to https://wandb.me/wandb-core for more information.\n"
          ]
        },
        {
          "output_type": "display_data",
          "data": {
            "text/plain": [
              "<IPython.core.display.Javascript object>"
            ],
            "application/javascript": [
              "\n",
              "        window._wandbApiKey = new Promise((resolve, reject) => {\n",
              "            function loadScript(url) {\n",
              "            return new Promise(function(resolve, reject) {\n",
              "                let newScript = document.createElement(\"script\");\n",
              "                newScript.onerror = reject;\n",
              "                newScript.onload = resolve;\n",
              "                document.body.appendChild(newScript);\n",
              "                newScript.src = url;\n",
              "            });\n",
              "            }\n",
              "            loadScript(\"https://cdn.jsdelivr.net/npm/postmate/build/postmate.min.js\").then(() => {\n",
              "            const iframe = document.createElement('iframe')\n",
              "            iframe.style.cssText = \"width:0;height:0;border:none\"\n",
              "            document.body.appendChild(iframe)\n",
              "            const handshake = new Postmate({\n",
              "                container: iframe,\n",
              "                url: 'https://wandb.ai/authorize'\n",
              "            });\n",
              "            const timeout = setTimeout(() => reject(\"Couldn't auto authenticate\"), 5000)\n",
              "            handshake.then(function(child) {\n",
              "                child.on('authorize', data => {\n",
              "                    clearTimeout(timeout)\n",
              "                    resolve(data)\n",
              "                });\n",
              "            });\n",
              "            })\n",
              "        });\n",
              "    "
            ]
          },
          "metadata": {}
        },
        {
          "output_type": "stream",
          "name": "stderr",
          "text": [
            "\u001b[34m\u001b[1mwandb\u001b[0m: Logging into wandb.ai. (Learn how to deploy a W&B server locally: https://wandb.me/wandb-server)\n",
            "\u001b[34m\u001b[1mwandb\u001b[0m: You can find your API key in your browser here: https://wandb.ai/authorize\n",
            "wandb: Paste an API key from your profile and hit enter, or press ctrl+c to quit:"
          ]
        },
        {
          "name": "stdout",
          "output_type": "stream",
          "text": [
            " ··········\n"
          ]
        },
        {
          "output_type": "stream",
          "name": "stderr",
          "text": [
            "\u001b[34m\u001b[1mwandb\u001b[0m: Appending key for api.wandb.ai to your netrc file: /root/.netrc\n"
          ]
        },
        {
          "output_type": "display_data",
          "data": {
            "text/plain": [
              "<IPython.core.display.HTML object>"
            ],
            "text/html": [
              "Tracking run with wandb version 0.18.7"
            ]
          },
          "metadata": {}
        },
        {
          "output_type": "display_data",
          "data": {
            "text/plain": [
              "<IPython.core.display.HTML object>"
            ],
            "text/html": [
              "Run data is saved locally in <code>/content/wandb/run-20241213_032118-no08rlol</code>"
            ]
          },
          "metadata": {}
        },
        {
          "output_type": "display_data",
          "data": {
            "text/plain": [
              "<IPython.core.display.HTML object>"
            ],
            "text/html": [
              "Syncing run <strong><a href='https://wandb.ai/ak2508-rutgers-university/huggingface/runs/no08rlol' target=\"_blank\">./results</a></strong> to <a href='https://wandb.ai/ak2508-rutgers-university/huggingface' target=\"_blank\">Weights & Biases</a> (<a href='https://wandb.me/developer-guide' target=\"_blank\">docs</a>)<br/>"
            ]
          },
          "metadata": {}
        },
        {
          "output_type": "display_data",
          "data": {
            "text/plain": [
              "<IPython.core.display.HTML object>"
            ],
            "text/html": [
              " View project at <a href='https://wandb.ai/ak2508-rutgers-university/huggingface' target=\"_blank\">https://wandb.ai/ak2508-rutgers-university/huggingface</a>"
            ]
          },
          "metadata": {}
        },
        {
          "output_type": "display_data",
          "data": {
            "text/plain": [
              "<IPython.core.display.HTML object>"
            ],
            "text/html": [
              " View run at <a href='https://wandb.ai/ak2508-rutgers-university/huggingface/runs/no08rlol' target=\"_blank\">https://wandb.ai/ak2508-rutgers-university/huggingface/runs/no08rlol</a>"
            ]
          },
          "metadata": {}
        },
        {
          "output_type": "stream",
          "name": "stderr",
          "text": [
            "<ipython-input-9-800bde727a44>:12: UserWarning: To copy construct from a tensor, it is recommended to use sourceTensor.clone().detach() or sourceTensor.clone().detach().requires_grad_(True), rather than torch.tensor(sourceTensor).\n",
            "  item = {key: torch.tensor(val[idx]) for key, val in self.encodings.items()}\n"
          ]
        },
        {
          "output_type": "display_data",
          "data": {
            "text/plain": [
              "<IPython.core.display.HTML object>"
            ],
            "text/html": [
              "\n",
              "    <div>\n",
              "      \n",
              "      <progress value='921' max='921' style='width:300px; height:20px; vertical-align: middle;'></progress>\n",
              "      [921/921 45:12, Epoch 3/3]\n",
              "    </div>\n",
              "    <table border=\"1\" class=\"dataframe\">\n",
              "  <thead>\n",
              " <tr style=\"text-align: left;\">\n",
              "      <th>Step</th>\n",
              "      <th>Training Loss</th>\n",
              "    </tr>\n",
              "  </thead>\n",
              "  <tbody>\n",
              "    <tr>\n",
              "      <td>100</td>\n",
              "      <td>0.877700</td>\n",
              "    </tr>\n",
              "    <tr>\n",
              "      <td>200</td>\n",
              "      <td>0.772300</td>\n",
              "    </tr>\n",
              "    <tr>\n",
              "      <td>300</td>\n",
              "      <td>0.714100</td>\n",
              "    </tr>\n",
              "    <tr>\n",
              "      <td>400</td>\n",
              "      <td>0.645200</td>\n",
              "    </tr>\n",
              "    <tr>\n",
              "      <td>500</td>\n",
              "      <td>0.613100</td>\n",
              "    </tr>\n",
              "    <tr>\n",
              "      <td>600</td>\n",
              "      <td>0.597600</td>\n",
              "    </tr>\n",
              "    <tr>\n",
              "      <td>700</td>\n",
              "      <td>0.504800</td>\n",
              "    </tr>\n",
              "    <tr>\n",
              "      <td>800</td>\n",
              "      <td>0.505200</td>\n",
              "    </tr>\n",
              "    <tr>\n",
              "      <td>900</td>\n",
              "      <td>0.479300</td>\n",
              "    </tr>\n",
              "  </tbody>\n",
              "</table><p>"
            ]
          },
          "metadata": {}
        },
        {
          "output_type": "stream",
          "name": "stderr",
          "text": [
            "<ipython-input-9-800bde727a44>:12: UserWarning: To copy construct from a tensor, it is recommended to use sourceTensor.clone().detach() or sourceTensor.clone().detach().requires_grad_(True), rather than torch.tensor(sourceTensor).\n",
            "  item = {key: torch.tensor(val[idx]) for key, val in self.encodings.items()}\n"
          ]
        }
      ],
      "execution_count": null
    },
    {
      "cell_type": "code",
      "source": [
        "torch.save(trainer.model.state_dict(), 'scibert_model1.pth')\n"
      ],
      "metadata": {
        "id": "ZNKCstXWMqdW"
      },
      "execution_count": null,
      "outputs": []
    },
    {
      "cell_type": "code",
      "source": [
        "evaluate_model_performance(\n",
        "        trainer,\n",
        "        tokenized_datasets[\"test\"],\n",
        "        datasets[\"test\"][\"label\"].tolist(),\n",
        "        {'true': 0, 'false': 1, 'mixture': 2, 'unproven': 3}\n",
        "    )"
      ],
      "metadata": {
        "_uuid": "3ec21262-db79-403e-abbf-e7af8d5b2157",
        "_cell_guid": "374f7f25-90da-4b1e-8e13-9c0f97f688c8",
        "trusted": true,
        "jupyter": {
          "outputs_hidden": false
        },
        "execution": {
          "iopub.status.busy": "2024-12-12T07:27:02.413496Z",
          "iopub.execute_input": "2024-12-12T07:27:02.413814Z",
          "iopub.status.idle": "2024-12-12T07:27:17.606767Z",
          "shell.execute_reply.started": "2024-12-12T07:27:02.413767Z",
          "shell.execute_reply": "2024-12-12T07:27:17.605915Z"
        },
        "colab": {
          "base_uri": "https://localhost:8080/",
          "height": 775
        },
        "id": "vcDP_vXrwvn1",
        "outputId": "15c67130-ae98-4392-cbe1-1e5ff400bf86"
      },
      "outputs": [
        {
          "output_type": "stream",
          "name": "stderr",
          "text": [
            "<ipython-input-9-800bde727a44>:12: UserWarning: To copy construct from a tensor, it is recommended to use sourceTensor.clone().detach() or sourceTensor.clone().detach().requires_grad_(True), rather than torch.tensor(sourceTensor).\n",
            "  item = {key: torch.tensor(val[idx]) for key, val in self.encodings.items()}\n"
          ]
        },
        {
          "output_type": "display_data",
          "data": {
            "text/plain": [
              "<IPython.core.display.HTML object>"
            ],
            "text/html": []
          },
          "metadata": {}
        },
        {
          "output_type": "stream",
          "name": "stdout",
          "text": [
            "Classification Report:\n",
            "               precision    recall  f1-score   support\n",
            "\n",
            "       false       0.62      0.85      0.72       388\n",
            "     mixture       0.50      0.32      0.39       201\n",
            "        true       0.87      0.80      0.83       599\n",
            "    unproven       0.41      0.20      0.27        45\n",
            "\n",
            "    accuracy                           0.72      1233\n",
            "   macro avg       0.60      0.54      0.55      1233\n",
            "weighted avg       0.72      0.72      0.70      1233\n",
            "\n"
          ]
        },
        {
          "output_type": "display_data",
          "data": {
            "text/plain": [
              "<Figure size 1000x700 with 2 Axes>"
            ],
            "image/png": "[encoded data removed]"
          },
          "metadata": {}
        }
      ],
      "execution_count": null
    },
    {
      "cell_type": "code",
      "source": [
        "trainer2 = train_model_with_weights(\n",
        "        tokenized_datasets[\"train\"],\n",
        "        model\n",
        "    )"
      ],
      "metadata": {
        "_uuid": "106d1ab2-617a-4058-a03b-e898d1b939cd",
        "_cell_guid": "45321073-d68e-4864-ae68-780e544586a1",
        "trusted": true,
        "jupyter": {
          "outputs_hidden": false
        },
        "id": "6Iyb1wwkwvn1",
        "colab": {
          "base_uri": "https://localhost:8080/",
          "height": 447
        },
        "outputId": "19eec6dc-7b55-4df8-9b91-7b3801b93672"
      },
      "outputs": [
        {
          "output_type": "display_data",
          "data": {
            "text/plain": [
              "<IPython.core.display.HTML object>"
            ],
            "text/html": [
              "\n",
              "    <div>\n",
              "      \n",
              "      <progress value='1228' max='1228' style='width:300px; height:20px; vertical-align: middle;'></progress>\n",
              "      [1228/1228 1:00:55, Epoch 4/4]\n",
              "    </div>\n",
              "    <table border=\"1\" class=\"dataframe\">\n",
              "  <thead>\n",
              " <tr style=\"text-align: left;\">\n",
              "      <th>Step</th>\n",
              "      <th>Training Loss</th>\n",
              "    </tr>\n",
              "  </thead>\n",
              "  <tbody>\n",
              "    <tr>\n",
              "      <td>100</td>\n",
              "      <td>1.209000</td>\n",
              "    </tr>\n",
              "    <tr>\n",
              "      <td>200</td>\n",
              "      <td>1.038900</td>\n",
              "    </tr>\n",
              "    <tr>\n",
              "      <td>300</td>\n",
              "      <td>0.981200</td>\n",
              "    </tr>\n",
              "    <tr>\n",
              "      <td>400</td>\n",
              "      <td>0.882700</td>\n",
              "    </tr>\n",
              "    <tr>\n",
              "      <td>500</td>\n",
              "      <td>0.815700</td>\n",
              "    </tr>\n",
              "    <tr>\n",
              "      <td>600</td>\n",
              "      <td>0.794300</td>\n",
              "    </tr>\n",
              "    <tr>\n",
              "      <td>700</td>\n",
              "      <td>0.671700</td>\n",
              "    </tr>\n",
              "    <tr>\n",
              "      <td>800</td>\n",
              "      <td>0.669500</td>\n",
              "    </tr>\n",
              "    <tr>\n",
              "      <td>900</td>\n",
              "      <td>0.652000</td>\n",
              "    </tr>\n",
              "    <tr>\n",
              "      <td>1000</td>\n",
              "      <td>0.542100</td>\n",
              "    </tr>\n",
              "    <tr>\n",
              "      <td>1100</td>\n",
              "      <td>0.514600</td>\n",
              "    </tr>\n",
              "    <tr>\n",
              "      <td>1200</td>\n",
              "      <td>0.507900</td>\n",
              "    </tr>\n",
              "  </tbody>\n",
              "</table><p>"
            ]
          },
          "metadata": {}
        }
      ],
      "execution_count": 23
    },
    {
      "cell_type": "code",
      "source": [
        "torch.save(trainer2.model.state_dict(), 'scibert_model2.pth')"
      ],
      "metadata": {
        "id": "9surbVpPOAxY"
      },
      "execution_count": 24,
      "outputs": []
    },
    {
      "cell_type": "code",
      "source": [
        "evaluate_model_performance(\n",
        "        trainer2,\n",
        "        tokenized_datasets[\"test\"],\n",
        "        datasets[\"test\"][\"label\"].tolist(),\n",
        "        {'true': 0, 'false': 1, 'mixture': 2, 'unproven': 3}\n",
        "    )"
      ],
      "metadata": {
        "colab": {
          "base_uri": "https://localhost:8080/",
          "height": 721
        },
        "id": "8wycDnq-byBJ",
        "outputId": "e5cb8735-aef9-4990-d7bd-e05751e9da32"
      },
      "execution_count": 26,
      "outputs": [
        {
          "output_type": "display_data",
          "data": {
            "text/plain": [
              "<IPython.core.display.HTML object>"
            ],
            "text/html": []
          },
          "metadata": {}
        },
        {
          "output_type": "stream",
          "name": "stdout",
          "text": [
            "Classification Report:\n",
            "               precision    recall  f1-score   support\n",
            "\n",
            "       false       0.68      0.68      0.68       388\n",
            "     mixture       0.33      0.53      0.40       201\n",
            "        true       0.93      0.71      0.81       599\n",
            "    unproven       0.36      0.47      0.40        45\n",
            "\n",
            "    accuracy                           0.66      1233\n",
            "   macro avg       0.57      0.60      0.57      1233\n",
            "weighted avg       0.73      0.66      0.69      1233\n",
            "\n"
          ]
        },
        {
          "output_type": "display_data",
          "data": {
            "text/plain": [
              "<Figure size 1000x700 with 2 Axes>"
            ],
            "image/png": "[encoded data removed]"
          },
          "metadata": {}
        }
      ]
    },
    {
      "cell_type": "code",
      "source": [],
      "metadata": {
        "id": "kJNRTk_4cAjT"
      },
      "execution_count": null,
      "outputs": []
    }
  ]
}